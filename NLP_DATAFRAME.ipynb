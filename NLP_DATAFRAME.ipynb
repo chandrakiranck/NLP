{
 "cells": [
  {
   "cell_type": "code",
   "execution_count": 30,
   "metadata": {
    "colab": {
     "base_uri": "https://localhost:8080/",
     "height": 204
    },
    "colab_type": "code",
    "id": "pcJKpygiPIzj",
    "outputId": "cd014cba-f1b8-4616-b103-0c14b7f9ae60"
   },
   "outputs": [
    {
     "data": {
      "text/html": [
       "<div>\n",
       "<style scoped>\n",
       "    .dataframe tbody tr th:only-of-type {\n",
       "        vertical-align: middle;\n",
       "    }\n",
       "\n",
       "    .dataframe tbody tr th {\n",
       "        vertical-align: top;\n",
       "    }\n",
       "\n",
       "    .dataframe thead th {\n",
       "        text-align: right;\n",
       "    }\n",
       "</style>\n",
       "<table border=\"1\" class=\"dataframe\">\n",
       "  <thead>\n",
       "    <tr style=\"text-align: right;\">\n",
       "      <th></th>\n",
       "      <th>marker_id</th>\n",
       "      <th>latitude</th>\n",
       "      <th>longitude</th>\n",
       "    </tr>\n",
       "  </thead>\n",
       "  <tbody>\n",
       "    <tr>\n",
       "      <th>0</th>\n",
       "      <td>a41b90c2ea4a405b8a35811cd094ea68</td>\n",
       "      <td>19.04372482200006</td>\n",
       "      <td>72.85004247900008</td>\n",
       "    </tr>\n",
       "    <tr>\n",
       "      <th>1</th>\n",
       "      <td>459cc0f22e0d472e958b85734e704c74</td>\n",
       "      <td>19.00195741300007</td>\n",
       "      <td>72.81694836500003</td>\n",
       "    </tr>\n",
       "    <tr>\n",
       "      <th>2</th>\n",
       "      <td>237a52a585ec4240a952e460a482defd</td>\n",
       "      <td>19.01835715900006</td>\n",
       "      <td>72.81840243300007</td>\n",
       "    </tr>\n",
       "    <tr>\n",
       "      <th>3</th>\n",
       "      <td>cb8226da37b642a19c4a543ff939e3f9</td>\n",
       "      <td>19.01796199100005</td>\n",
       "      <td>72.81869763300006</td>\n",
       "    </tr>\n",
       "    <tr>\n",
       "      <th>4</th>\n",
       "      <td>d2daf4cec36140e79352ae978314ab5a</td>\n",
       "      <td>19.01787524200006</td>\n",
       "      <td>72.81815676500008</td>\n",
       "    </tr>\n",
       "  </tbody>\n",
       "</table>\n",
       "</div>"
      ],
      "text/plain": [
       "                          marker_id           latitude          longitude\n",
       "0  a41b90c2ea4a405b8a35811cd094ea68  19.04372482200006  72.85004247900008\n",
       "1  459cc0f22e0d472e958b85734e704c74  19.00195741300007  72.81694836500003\n",
       "2  237a52a585ec4240a952e460a482defd  19.01835715900006  72.81840243300007\n",
       "3  cb8226da37b642a19c4a543ff939e3f9  19.01796199100005  72.81869763300006\n",
       "4  d2daf4cec36140e79352ae978314ab5a  19.01787524200006  72.81815676500008"
      ]
     },
     "execution_count": 30,
     "metadata": {
      "tags": []
     },
     "output_type": "execute_result"
    }
   ],
   "source": [
    "import re\n",
    "import pandas as pd\n",
    "a=re.findall( '[_](\\w+)\\s+[=]\\s+\\w{1}[\\W{1}]\\w{6}[(]\\s+[[](\\d{2}[\\W]\\d{14})[,]\\s+(\\d{2}[\\W]\\d{14})',data)\n",
    "marker_id=[]\n",
    "latitude=[]\n",
    "longitude=[]\n",
    "for i in a:\n",
    "    marker_id.append(i[0])\n",
    "    latitude.append(i[1])\n",
    "    longitude.append(i[2])\n",
    "final=pd.DataFrame()\n",
    "final['marker_id']=marker_id\n",
    "final['latitude']=latitude\n",
    "final['longitude']=longitude\n",
    "final.head()"
   ]
  },
  {
   "cell_type": "code",
   "execution_count": null,
   "metadata": {
    "colab": {},
    "colab_type": "code",
    "id": "70FmvLJhUeBq"
   },
   "outputs": [],
   "source": []
  }
 ],
 "metadata": {
  "colab": {
   "collapsed_sections": [],
   "name": "dataframe.ipynb",
   "provenance": []
  },
  "kernelspec": {
   "display_name": "Python 3",
   "language": "python",
   "name": "python3"
  },
  "language_info": {
   "codemirror_mode": {
    "name": "ipython",
    "version": 3
   },
   "file_extension": ".py",
   "mimetype": "text/x-python",
   "name": "python",
   "nbconvert_exporter": "python",
   "pygments_lexer": "ipython3",
   "version": "3.7.6"
  }
 },
 "nbformat": 4,
 "nbformat_minor": 1
}
